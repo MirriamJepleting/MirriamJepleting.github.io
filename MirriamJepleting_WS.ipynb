{
  "nbformat": 4,
  "nbformat_minor": 0,
  "metadata": {
    "colab": {
      "provenance": [],
      "mount_file_id": "1lhv1h00kDUxZ9th5MSs7uEmhjqpu8D9d",
      "authorship_tag": "ABX9TyN8o1pRxttY/Xr+GkNRCT+6",
      "include_colab_link": true
    },
    "kernelspec": {
      "name": "python3",
      "display_name": "Python 3"
    },
    "language_info": {
      "name": "python"
    }
  },
  "cells": [
    {
      "cell_type": "markdown",
      "metadata": {
        "id": "view-in-github",
        "colab_type": "text"
      },
      "source": [
        "<a href=\"https://colab.research.google.com/github/MirriamJepleting/MirriamJepleting.github.io/blob/main/MirriamJepleting_WK1.ipynb\" target=\"_parent\"><img src=\"https://colab.research.google.com/assets/colab-badge.svg\" alt=\"Open In Colab\"/></a>"
      ]
    },
    {
      "cell_type": "code",
      "execution_count": null,
      "metadata": {
        "id": "G0WnZFXR87IA"
      },
      "outputs": [],
      "source": [
        "# Title: Web Scraping Project\n",
        "# Name: Mirriam Jepleting\n",
        "# Date: 16 September 2025\n",
        "# Description: Web scrapping using Requests,BeautifulSoup, and pandas"
      ]
    },
    {
      "cell_type": "code",
      "source": [
        "# Import Libraries\n",
        "import requests\n",
        "from bs4\n",
        "import BeautifulSoup\n",
        "import pandas as pd\n",
        "from google.colab import files"
      ],
      "metadata": {
        "id": "R62uosEp_xst"
      },
      "execution_count": null,
      "outputs": []
    },
    {
      "cell_type": "code",
      "source": [],
      "metadata": {
        "id": "2Tu3bvTYSK4r"
      },
      "execution_count": null,
      "outputs": []
    },
    {
      "cell_type": "code",
      "source": [
        "# Step 1: Fetching and Loading the URL\n",
        "filepath = 'https://www.scrapethissite.com/pages/forms/'\n",
        "response = requests.get(url)\n"
      ],
      "metadata": {
        "id": "-oGKhFnNARkQ"
      },
      "execution_count": null,
      "outputs": []
    },
    {
      "cell_type": "code",
      "source": [
        "# Step 2\n",
        "# Parsing the HTML Content\n",
        "soup = BeautifulSoup(response.text, 'html.parser')\n"
      ],
      "metadata": {
        "id": "1kxthuayB_Z0"
      },
      "execution_count": null,
      "outputs": []
    },
    {
      "cell_type": "code",
      "source": [
        "# Step 3\n",
        "# Extracting the data required from the page\n",
        "Hockey_table = soup.find_all('table', class_='table')[0]\n"
      ],
      "metadata": {
        "id": "XpwfHCWoCQrP"
      },
      "execution_count": null,
      "outputs": []
    },
    {
      "cell_type": "code",
      "source": [
        "# Step 4\n",
        "#Extract the table with the Hockey Scores\n",
        "hockey_table = soup.find('table', class_='table')\n",
        "#print(hockey_table)"
      ],
      "metadata": {
        "id": "uoahavZ3NfMV"
      },
      "execution_count": null,
      "outputs": []
    },
    {
      "cell_type": "code",
      "source": [
        "# Step 5\n",
        "#Extract the column headings\n",
        "table_titles = hockey_table.find_all('th')\n",
        "hockey_table_title = [title.text.strip() for title in table_titles]\n",
        "print(hockey_table_title)"
      ],
      "metadata": {
        "colab": {
          "base_uri": "https://localhost:8080/"
        },
        "id": "nqP1mm8dN6IV",
        "outputId": "2bec4f1d-a744-41bc-b6b3-c1a2d7caa37f"
      },
      "execution_count": null,
      "outputs": [
        {
          "output_type": "stream",
          "name": "stdout",
          "text": [
            "['Team Name', 'Year', 'Wins', 'Losses', 'OT Losses', 'Win %', 'Goals For (GF)', 'Goals Against (GA)', '+ / -']\n"
          ]
        }
      ]
    },
    {
      "cell_type": "code",
      "source": [
        "# Step 6\n",
        "#Save the column headings onto a Pandas DataFrame\n",
        "df = pd.DataFrame(columns=hockey_table_title)\n",
        "df\n"
      ],
      "metadata": {
        "colab": {
          "base_uri": "https://localhost:8080/",
          "height": 89
        },
        "id": "ZNe_-gTaOFdY",
        "outputId": "603ea83c-31a3-4f05-c175-8e047a0e11d4"
      },
      "execution_count": null,
      "outputs": [
        {
          "output_type": "execute_result",
          "data": {
            "text/plain": [
              "Empty DataFrame\n",
              "Columns: [Team Name, Year, Wins, Losses, OT Losses, Win %, Goals For (GF), Goals Against (GA), + / -]\n",
              "Index: []"
            ],
            "text/html": [
              "\n",
              "  <div id=\"df-0aafe909-326d-42df-8bc6-fee3f1bd88e8\" class=\"colab-df-container\">\n",
              "    <div>\n",
              "<style scoped>\n",
              "    .dataframe tbody tr th:only-of-type {\n",
              "        vertical-align: middle;\n",
              "    }\n",
              "\n",
              "    .dataframe tbody tr th {\n",
              "        vertical-align: top;\n",
              "    }\n",
              "\n",
              "    .dataframe thead th {\n",
              "        text-align: right;\n",
              "    }\n",
              "</style>\n",
              "<table border=\"1\" class=\"dataframe\">\n",
              "  <thead>\n",
              "    <tr style=\"text-align: right;\">\n",
              "      <th></th>\n",
              "      <th>Team Name</th>\n",
              "      <th>Year</th>\n",
              "      <th>Wins</th>\n",
              "      <th>Losses</th>\n",
              "      <th>OT Losses</th>\n",
              "      <th>Win %</th>\n",
              "      <th>Goals For (GF)</th>\n",
              "      <th>Goals Against (GA)</th>\n",
              "      <th>+ / -</th>\n",
              "    </tr>\n",
              "  </thead>\n",
              "  <tbody>\n",
              "  </tbody>\n",
              "</table>\n",
              "</div>\n",
              "    <div class=\"colab-df-buttons\">\n",
              "\n",
              "  <div class=\"colab-df-container\">\n",
              "    <button class=\"colab-df-convert\" onclick=\"convertToInteractive('df-0aafe909-326d-42df-8bc6-fee3f1bd88e8')\"\n",
              "            title=\"Convert this dataframe to an interactive table.\"\n",
              "            style=\"display:none;\">\n",
              "\n",
              "  <svg xmlns=\"http://www.w3.org/2000/svg\" height=\"24px\" viewBox=\"0 -960 960 960\">\n",
              "    <path d=\"M120-120v-720h720v720H120Zm60-500h600v-160H180v160Zm220 220h160v-160H400v160Zm0 220h160v-160H400v160ZM180-400h160v-160H180v160Zm440 0h160v-160H620v160ZM180-180h160v-160H180v160Zm440 0h160v-160H620v160Z\"/>\n",
              "  </svg>\n",
              "    </button>\n",
              "\n",
              "  <style>\n",
              "    .colab-df-container {\n",
              "      display:flex;\n",
              "      gap: 12px;\n",
              "    }\n",
              "\n",
              "    .colab-df-convert {\n",
              "      background-color: #E8F0FE;\n",
              "      border: none;\n",
              "      border-radius: 50%;\n",
              "      cursor: pointer;\n",
              "      display: none;\n",
              "      fill: #1967D2;\n",
              "      height: 32px;\n",
              "      padding: 0 0 0 0;\n",
              "      width: 32px;\n",
              "    }\n",
              "\n",
              "    .colab-df-convert:hover {\n",
              "      background-color: #E2EBFA;\n",
              "      box-shadow: 0px 1px 2px rgba(60, 64, 67, 0.3), 0px 1px 3px 1px rgba(60, 64, 67, 0.15);\n",
              "      fill: #174EA6;\n",
              "    }\n",
              "\n",
              "    .colab-df-buttons div {\n",
              "      margin-bottom: 4px;\n",
              "    }\n",
              "\n",
              "    [theme=dark] .colab-df-convert {\n",
              "      background-color: #3B4455;\n",
              "      fill: #D2E3FC;\n",
              "    }\n",
              "\n",
              "    [theme=dark] .colab-df-convert:hover {\n",
              "      background-color: #434B5C;\n",
              "      box-shadow: 0px 1px 3px 1px rgba(0, 0, 0, 0.15);\n",
              "      filter: drop-shadow(0px 1px 2px rgba(0, 0, 0, 0.3));\n",
              "      fill: #FFFFFF;\n",
              "    }\n",
              "  </style>\n",
              "\n",
              "    <script>\n",
              "      const buttonEl =\n",
              "        document.querySelector('#df-0aafe909-326d-42df-8bc6-fee3f1bd88e8 button.colab-df-convert');\n",
              "      buttonEl.style.display =\n",
              "        google.colab.kernel.accessAllowed ? 'block' : 'none';\n",
              "\n",
              "      async function convertToInteractive(key) {\n",
              "        const element = document.querySelector('#df-0aafe909-326d-42df-8bc6-fee3f1bd88e8');\n",
              "        const dataTable =\n",
              "          await google.colab.kernel.invokeFunction('convertToInteractive',\n",
              "                                                    [key], {});\n",
              "        if (!dataTable) return;\n",
              "\n",
              "        const docLinkHtml = 'Like what you see? Visit the ' +\n",
              "          '<a target=\"_blank\" href=https://colab.research.google.com/notebooks/data_table.ipynb>data table notebook</a>'\n",
              "          + ' to learn more about interactive tables.';\n",
              "        element.innerHTML = '';\n",
              "        dataTable['output_type'] = 'display_data';\n",
              "        await google.colab.output.renderOutput(dataTable, element);\n",
              "        const docLink = document.createElement('div');\n",
              "        docLink.innerHTML = docLinkHtml;\n",
              "        element.appendChild(docLink);\n",
              "      }\n",
              "    </script>\n",
              "  </div>\n",
              "\n",
              "\n",
              "  <div id=\"id_364ce170-0611-4bcd-b3dd-11a16b8b66af\">\n",
              "    <style>\n",
              "      .colab-df-generate {\n",
              "        background-color: #E8F0FE;\n",
              "        border: none;\n",
              "        border-radius: 50%;\n",
              "        cursor: pointer;\n",
              "        display: none;\n",
              "        fill: #1967D2;\n",
              "        height: 32px;\n",
              "        padding: 0 0 0 0;\n",
              "        width: 32px;\n",
              "      }\n",
              "\n",
              "      .colab-df-generate:hover {\n",
              "        background-color: #E2EBFA;\n",
              "        box-shadow: 0px 1px 2px rgba(60, 64, 67, 0.3), 0px 1px 3px 1px rgba(60, 64, 67, 0.15);\n",
              "        fill: #174EA6;\n",
              "      }\n",
              "\n",
              "      [theme=dark] .colab-df-generate {\n",
              "        background-color: #3B4455;\n",
              "        fill: #D2E3FC;\n",
              "      }\n",
              "\n",
              "      [theme=dark] .colab-df-generate:hover {\n",
              "        background-color: #434B5C;\n",
              "        box-shadow: 0px 1px 3px 1px rgba(0, 0, 0, 0.15);\n",
              "        filter: drop-shadow(0px 1px 2px rgba(0, 0, 0, 0.3));\n",
              "        fill: #FFFFFF;\n",
              "      }\n",
              "    </style>\n",
              "    <button class=\"colab-df-generate\" onclick=\"generateWithVariable('df')\"\n",
              "            title=\"Generate code using this dataframe.\"\n",
              "            style=\"display:none;\">\n",
              "\n",
              "  <svg xmlns=\"http://www.w3.org/2000/svg\" height=\"24px\"viewBox=\"0 0 24 24\"\n",
              "       width=\"24px\">\n",
              "    <path d=\"M7,19H8.4L18.45,9,17,7.55,7,17.6ZM5,21V16.75L18.45,3.32a2,2,0,0,1,2.83,0l1.4,1.43a1.91,1.91,0,0,1,.58,1.4,1.91,1.91,0,0,1-.58,1.4L9.25,21ZM18.45,9,17,7.55Zm-12,3A5.31,5.31,0,0,0,4.9,8.1,5.31,5.31,0,0,0,1,6.5,5.31,5.31,0,0,0,4.9,4.9,5.31,5.31,0,0,0,6.5,1,5.31,5.31,0,0,0,8.1,4.9,5.31,5.31,0,0,0,12,6.5,5.46,5.46,0,0,0,6.5,12Z\"/>\n",
              "  </svg>\n",
              "    </button>\n",
              "    <script>\n",
              "      (() => {\n",
              "      const buttonEl =\n",
              "        document.querySelector('#id_364ce170-0611-4bcd-b3dd-11a16b8b66af button.colab-df-generate');\n",
              "      buttonEl.style.display =\n",
              "        google.colab.kernel.accessAllowed ? 'block' : 'none';\n",
              "\n",
              "      buttonEl.onclick = () => {\n",
              "        google.colab.notebook.generateWithVariable('df');\n",
              "      }\n",
              "      })();\n",
              "    </script>\n",
              "  </div>\n",
              "\n",
              "    </div>\n",
              "  </div>\n"
            ],
            "application/vnd.google.colaboratory.intrinsic+json": {
              "type": "dataframe",
              "variable_name": "df",
              "repr_error": "Out of range float values are not JSON compliant: nan"
            }
          },
          "metadata": {},
          "execution_count": 8
        }
      ]
    },
    {
      "cell_type": "code",
      "source": [
        "# Step 7\n",
        "#Extract the data row by row. First get all rows, then loop through each while stripping and saving data into the DataFrame\n",
        "table_data = hockey_table.find_all('tr')\n",
        "for row in table_data[1:]:\n",
        "  row_data = row.find_all('td')\n",
        "  each_row_data = [data.text.strip() for data in row_data]\n",
        "  # print(each_raw_data) # Keep this commented for now, as it prints a lot of output\n",
        "\n",
        "  # Step 8: saving each row data as it is generated into the pandas data frame\n",
        "  length = len(df)\n",
        "  df.loc[length] = each_row_data"
      ],
      "metadata": {
        "id": "J-h5IODMORfC"
      },
      "execution_count": null,
      "outputs": []
    },
    {
      "cell_type": "code",
      "source": [
        "# Displaying the first few rows to inspect\n",
        "print(df.head())"
      ],
      "metadata": {
        "colab": {
          "base_uri": "https://localhost:8080/"
        },
        "id": "bHkhU4I0PHns",
        "outputId": "ca2b8ecf-dc90-47cf-e0af-1701ef787ded"
      },
      "execution_count": null,
      "outputs": [
        {
          "output_type": "stream",
          "name": "stdout",
          "text": [
            "            Team Name  Year Wins Losses OT Losses  Win % Goals For (GF)  \\\n",
            "0       Boston Bruins  1990   44     24             0.55            299   \n",
            "1      Buffalo Sabres  1990   31     30            0.388            292   \n",
            "2      Calgary Flames  1990   46     26            0.575            344   \n",
            "3  Chicago Blackhawks  1990   49     23            0.613            284   \n",
            "4   Detroit Red Wings  1990   34     38            0.425            273   \n",
            "\n",
            "  Goals Against (GA) + / -  \n",
            "0                264    35  \n",
            "1                278    14  \n",
            "2                263    81  \n",
            "3                211    73  \n",
            "4                298   -25  \n"
          ]
        }
      ]
    },
    {
      "cell_type": "code",
      "source": [
        "# Saving  to CSV\n",
        "df.to_csv('Hockey.csv', index=False)\n",
        "# Verify the saved data\n",
        "saved_data = pd.read_csv('Hockey.csv')\n",
        "print(saved_data.head())"
      ],
      "metadata": {
        "colab": {
          "base_uri": "https://localhost:8080/"
        },
        "id": "Wz9kQ_O-Pw1i",
        "outputId": "132827bb-02ec-4e58-d678-5355b8462897"
      },
      "execution_count": null,
      "outputs": [
        {
          "output_type": "stream",
          "name": "stdout",
          "text": [
            "            Team Name  Year  Wins  Losses  OT Losses  Win %  Goals For (GF)  \\\n",
            "0       Boston Bruins  1990    44      24        NaN  0.550             299   \n",
            "1      Buffalo Sabres  1990    31      30        NaN  0.388             292   \n",
            "2      Calgary Flames  1990    46      26        NaN  0.575             344   \n",
            "3  Chicago Blackhawks  1990    49      23        NaN  0.613             284   \n",
            "4   Detroit Red Wings  1990    34      38        NaN  0.425             273   \n",
            "\n",
            "   Goals Against (GA)  + / -  \n",
            "0                 264     35  \n",
            "1                 278     14  \n",
            "2                 263     81  \n",
            "3                 211     73  \n",
            "4                 298    -25  \n"
          ]
        }
      ]
    }
  ]
}
